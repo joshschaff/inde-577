{
 "cells": [
  {
   "cell_type": "markdown",
   "id": "d10d182b",
   "metadata": {},
   "source": [
    "First, we are going to find the optimal parameters for a single decision tree\n",
    "\n",
    "Then we will construct a random forrest using multiple of those deicision trees"
   ]
  },
  {
   "cell_type": "code",
   "execution_count": 1,
   "id": "8e47834a",
   "metadata": {},
   "outputs": [],
   "source": [
    "import numpy as np\n",
    "import pandas as pd\n",
    "import matplotlib.pyplot as plt\n",
    "import seaborn as sns\n",
    "\n",
    "from sklearn.tree import DecisionTreeClassifier\n",
    "from sklearn.base import clone\n",
    "from sklearn import metrics\n",
    "from sklearn.model_selection import train_test_split, GridSearchCV, ShuffleSplit"
   ]
  },
  {
   "cell_type": "code",
   "execution_count": 2,
   "id": "54a498fb",
   "metadata": {},
   "outputs": [],
   "source": [
    "df = pd.read_csv(\"/home/josh/inde577/schaffer_inde_577/data/rb_tx_data.csv\")\n",
    "df = df.set_index(\"TransactionID\")\n",
    "\n",
    "df = df.replace(np.nan,0)\n",
    "\n",
    "df = df.loc[(df['TotalCost']>0) & \n",
    "            (df['RepairCost']>0) &\n",
    "            (df['TurnaroundTime']>0) &\n",
    "            (df['TurnaroundTime']<38) # corresponds to two weeks\n",
    "]\n",
    "\n",
    "#X = df['RepairCost'].values.reshape(-1, 1)\n",
    "#y = np.where(df['DayCreated'] == df['DayCompleted'], 0, 1)\n",
    "#y = np.where(df['TransactionType'] == 'outpatient', 0, 1)\n",
    "\n",
    "X = df.loc[:, df.columns[14:]].values\n",
    "y = df['TurnaroundTime'].values\n",
    "y = np.where(df['DayCreated']== df['DayCompleted'], 0, 1)\n",
    "\n",
    "\n",
    "X_train, X_test, y_train, y_test = train_test_split(X,y, test_size=0.25, random_state = 42)\n"
   ]
  },
  {
   "cell_type": "code",
   "execution_count": 3,
   "id": "b96e7f37",
   "metadata": {},
   "outputs": [],
   "source": [
    "param_grid = {\n",
    "    'max_depth': list(range(1,40)),\n",
    "    'max_leaf_nodes': list(range(2,20)),\n",
    "    'min_samples_split': [2,3,4]\n",
    "}\n",
    "\n",
    "grid_search_cv = GridSearchCV(\n",
    "    DecisionTreeClassifier(criterion = 'entropy'),\n",
    "    param_grid = param_grid,\n",
    "    scoring = \"accuracy\",\n",
    "    cv = 10\n",
    ").fit(X_train, y_train)"
   ]
  },
  {
   "cell_type": "code",
   "execution_count": 4,
   "id": "a6fc792a",
   "metadata": {},
   "outputs": [
    {
     "data": {
      "text/plain": [
       "0.721761080514031"
      ]
     },
     "execution_count": 4,
     "metadata": {},
     "output_type": "execute_result"
    }
   ],
   "source": [
    "grid_search_cv.best_score_ # best accuracy score on the training set"
   ]
  },
  {
   "cell_type": "code",
   "execution_count": 5,
   "id": "28d30577",
   "metadata": {},
   "outputs": [
    {
     "data": {
      "text/plain": [
       "{'ccp_alpha': 0.0,\n",
       " 'class_weight': None,\n",
       " 'criterion': 'entropy',\n",
       " 'max_depth': 11,\n",
       " 'max_features': None,\n",
       " 'max_leaf_nodes': 19,\n",
       " 'min_impurity_decrease': 0.0,\n",
       " 'min_samples_leaf': 1,\n",
       " 'min_samples_split': 4,\n",
       " 'min_weight_fraction_leaf': 0.0,\n",
       " 'random_state': None,\n",
       " 'splitter': 'best'}"
      ]
     },
     "execution_count": 5,
     "metadata": {},
     "output_type": "execute_result"
    }
   ],
   "source": [
    "decision_tree = grid_search_cv.best_estimator_\n",
    "decision_tree.get_params()"
   ]
  },
  {
   "cell_type": "code",
   "execution_count": null,
   "id": "222bd24a",
   "metadata": {},
   "outputs": [],
   "source": [
    "# evaluate the resulting model on the TEST set"
   ]
  },
  {
   "cell_type": "code",
   "execution_count": 6,
   "id": "11c4eb0a",
   "metadata": {},
   "outputs": [],
   "source": [
    "# predicted values on the testing data\n",
    "y_pred_tree = decision_tree.predict(X_test)"
   ]
  },
  {
   "cell_type": "code",
   "execution_count": 7,
   "id": "282a9d0b",
   "metadata": {},
   "outputs": [],
   "source": [
    "def confusion_matrix(y_test, y_pred):\n",
    "    # The confusion matrix\n",
    "    confusion_matrix = metrics.confusion_matrix(y_test, y_pred)\n",
    "\n",
    "    # Convert confusion matrix into dataframe\n",
    "    matrix_df = pd.DataFrame(confusion_matrix)\n",
    "\n",
    "\n",
    "    plt.figure(figsize=(10, 8))\n",
    "    ax = plt.axes()\n",
    "    sns.set(font_scale=1.3)\n",
    "\n",
    "    sns.heatmap(matrix_df,\n",
    "                annot = True, \n",
    "                fmt = \"g\",\n",
    "                ax = ax, \n",
    "                cmap = \"magma\", \n",
    "                cbar = False)\n",
    "\n",
    "    ax.set_title(\"Confusion Matrix - Decision Tree\")\n",
    "    ax.set_xlabel(\"Predicted Label\", fontsize=15)\n",
    "    ax.set_xticklabels([\"Outpatient\", \"Inpatient\"])\n",
    "    ax.set_ylabel(\"True Label\", fontsize=15)\n",
    "    ax.set_yticklabels([\"Outpatient\", \"Inpatient\"], rotation=0)\n",
    "    plt.show()\n"
   ]
  },
  {
   "cell_type": "code",
   "execution_count": 8,
   "id": "4c0b9069",
   "metadata": {},
   "outputs": [
    {
     "data": {
      "image/png": "[encoded data removed]",
      "text/plain": [
       "<Figure size 720x576 with 1 Axes>"
      ]
     },
     "metadata": {
      "needs_background": "light"
     },
     "output_type": "display_data"
    }
   ],
   "source": [
    "confusion_matrix(y_test, y_pred_tree)"
   ]
  },
  {
   "cell_type": "code",
   "execution_count": 10,
   "id": "24066b6c",
   "metadata": {},
   "outputs": [
    {
     "name": "stdout",
     "output_type": "stream",
     "text": [
      "              precision    recall  f1-score   support\n",
      "\n",
      "           0       0.71      0.90      0.79       260\n",
      "           1       0.67      0.37      0.48       151\n",
      "\n",
      "    accuracy                           0.70       411\n",
      "   macro avg       0.69      0.63      0.64       411\n",
      "weighted avg       0.70      0.70      0.68       411\n",
      "\n"
     ]
    },
    {
     "data": {
      "text/plain": [
       "0.7031630170316302"
      ]
     },
     "execution_count": 10,
     "metadata": {},
     "output_type": "execute_result"
    }
   ],
   "source": [
    "#Checking performance our model with classification report.\n",
    "print(metrics.classification_report(y_test, y_pred_tree))\n",
    "\n",
    "metrics.accuracy_score(y_test, y_pred_tree)"
   ]
  },
  {
   "cell_type": "code",
   "execution_count": 11,
   "id": "d2261c1c",
   "metadata": {},
   "outputs": [],
   "source": [
    "\n",
    "n_trees = 1000\n",
    "n_instances = 500\n",
    "\n",
    "X_train_subsets = []\n",
    "\n",
    "\n",
    "rs = ShuffleSplit(n_splits= n_trees, test_size= len(X_train) - n_instances)\n",
    "for subset_train_index, _ in rs.split(X_train):\n",
    "    X_subset_train = X_train[subset_train_index]\n",
    "    y_subset_train = y_train[subset_train_index]\n",
    "    X_train_subsets.append((X_subset_train, y_subset_train))\n",
    "\n"
   ]
  },
  {
   "cell_type": "code",
   "execution_count": null,
   "id": "152b882b",
   "metadata": {},
   "outputs": [],
   "source": [
    "# train one decision tree for each subset"
   ]
  },
  {
   "cell_type": "code",
   "execution_count": 12,
   "id": "7ea16d4a",
   "metadata": {},
   "outputs": [
    {
     "data": {
      "text/plain": [
       "0.693844282238443"
      ]
     },
     "execution_count": 12,
     "metadata": {},
     "output_type": "execute_result"
    }
   ],
   "source": [
    "\n",
    "\n",
    "trees =[]\n",
    "accuracies = []\n",
    "\n",
    "for (X_subset_train, y_subset_train) in X_train_subsets:\n",
    "    clf = clone(grid_search_cv.best_estimator_)\n",
    "    clf.fit(X_subset_train, y_subset_train)\n",
    "    trees.append(clf)\n",
    "    y_pred = clf.predict(X_test)\n",
    "    accuracy = metrics.accuracy_score(y_test, y_pred)\n",
    "    accuracies.append(accuracy)\n",
    "\n",
    "sum(accuracies)/n_trees"
   ]
  },
  {
   "cell_type": "code",
   "execution_count": 13,
   "id": "38a2b79b",
   "metadata": {},
   "outputs": [
    {
     "data": {
      "text/plain": [
       "0.708029197080292"
      ]
     },
     "execution_count": 13,
     "metadata": {},
     "output_type": "execute_result"
    }
   ],
   "source": [
    "from scipy.stats import mode\n",
    "\n",
    "# a matrix having dimension n_trees * len(X_test)  \n",
    "# each row is the prediction of one tree on every element of the test set\n",
    "tree_preds = np.stack([t.predict(X_test) for t in trees])\n",
    "\n",
    "y_pred_forrest = mode(tree_preds, axis=0).mode.reshape(-1,1)\n",
    "\n",
    "metrics.accuracy_score(y_test, y_pred_forrest)\n"
   ]
  },
  {
   "cell_type": "code",
   "execution_count": 14,
   "id": "860ed761",
   "metadata": {},
   "outputs": [
    {
     "data": {
      "image/png": "[encoded data removed]",
      "text/plain": [
       "<Figure size 720x576 with 1 Axes>"
      ]
     },
     "metadata": {},
     "output_type": "display_data"
    }
   ],
   "source": [
    "confusion_matrix(y_test, y_pred_forrest)"
   ]
  },
  {
   "cell_type": "code",
   "execution_count": 15,
   "id": "188b0ecc",
   "metadata": {},
   "outputs": [
    {
     "name": "stdout",
     "output_type": "stream",
     "text": [
      "              precision    recall  f1-score   support\n",
      "\n",
      "           0       0.70      0.94      0.80       260\n",
      "           1       0.75      0.31      0.44       151\n",
      "\n",
      "    accuracy                           0.71       411\n",
      "   macro avg       0.72      0.62      0.62       411\n",
      "weighted avg       0.72      0.71      0.67       411\n",
      "\n"
     ]
    },
    {
     "data": {
      "text/plain": [
       "0.708029197080292"
      ]
     },
     "execution_count": 15,
     "metadata": {},
     "output_type": "execute_result"
    }
   ],
   "source": [
    "#Checking performance our model with classification report.\n",
    "print(metrics.classification_report(y_test, y_pred_forrest))\n",
    "\n",
    "metrics.accuracy_score(y_test, y_pred_forrest)"
   ]
  }
 ],
 "metadata": {
  "kernelspec": {
   "display_name": "Python 3 (ipykernel)",
   "language": "python",
   "name": "python3"
  },
  "language_info": {
   "codemirror_mode": {
    "name": "ipython",
    "version": 3
   },
   "file_extension": ".py",
   "mimetype": "text/x-python",
   "name": "python",
   "nbconvert_exporter": "python",
   "pygments_lexer": "ipython3",
   "version": "3.10.4"
  },
  "vscode": {
   "interpreter": {
    "hash": "767d51c1340bd893661ea55ea3124f6de3c7a262a8b4abca0554b478b1e2ff90"
   }
  }
 },
 "nbformat": 4,
 "nbformat_minor": 5
}
