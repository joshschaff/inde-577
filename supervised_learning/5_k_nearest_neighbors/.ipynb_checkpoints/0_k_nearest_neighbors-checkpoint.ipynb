{
 "cells": [
  {
   "cell_type": "markdown",
   "metadata": {},
   "source": [
    "classification of inpatient vs outpatient"
   ]
  },
  {
   "cell_type": "code",
   "execution_count": 1,
   "metadata": {},
   "outputs": [],
   "source": [
    "import numpy as np\n",
    "import pandas as pd\n",
    "\n",
    "from tqdm import tqdm\n",
    "\n",
    "from sklearn.model_selection import train_test_split\n",
    "from sklearn.preprocessing import StandardScaler\n",
    "\n",
    "import matplotlib.pyplot as plt "
   ]
  },
  {
   "cell_type": "code",
   "execution_count": 2,
   "metadata": {},
   "outputs": [],
   "source": [
    "df = pd.read_csv(\"/home/josh/inde577/schaffer_inde_577/data/rb_tx_data.csv\")\n",
    "df = df.set_index(\"TransactionID\")\n",
    "\n",
    "df = df.replace(np.nan,0)\n",
    "\n",
    "df = df.loc[(df['TotalCost']>0) & \n",
    "            (df['RepairCost']>0) &\n",
    "            (df['TurnaroundTime']>0) &\n",
    "            (df['TurnaroundTime']<38) # corresponds to two weeks\n",
    "]\n",
    "\n",
    "#X = df['RepairCost'].values.reshape(-1, 1)\n",
    "#y = np.where(df['DayCreated'] == df['DayCompleted'], 0, 1)\n",
    "#y = np.where(df['TransactionType'] == 'outpatient', 0, 1)\n",
    "\n",
    "X = df.loc[:, df.columns[14:]].values\n",
    "y = df['TurnaroundTime'].values\n",
    "y = np.where(df['DayCreated']== df['DayCompleted'], 0, 1)\n",
    "\n",
    "\n",
    "min_max_scaler = StandardScaler()\n",
    "X = min_max_scaler.fit_transform(X)\n",
    "#X = vectorize_feature_data(X)\n",
    "\n",
    "\n",
    "X_train, X_val_test, y_train, y_val_test = train_test_split(X,y, test_size=0.3, random_state = 42)\n",
    "X_val, X_test, y_val, y_test = train_test_split(X_val_test,y_val_test, test_size=0.5, random_state = 42)\n"
   ]
  },
  {
   "cell_type": "code",
   "execution_count": 3,
   "metadata": {},
   "outputs": [],
   "source": [
    "def k_nearest_neighbors(point, training_features, training_labels, k):\n",
    "    neighbors= []\n",
    "    \n",
    "    for p, label in zip(training_features, training_labels):\n",
    "        d_p = d(point, p)\n",
    "        temp_data = [p, label, d_p]\n",
    "        neighbors.append(temp_data)\n",
    "    \n",
    "    neighbors.sort(key = lambda x: x[-1]) # sort by distance d\n",
    "    \n",
    "    return neighbors[:k]"
   ]
  },
  {
   "cell_type": "code",
   "execution_count": 4,
   "metadata": {},
   "outputs": [],
   "source": [
    "def d(p,q):\n",
    "    return np.sqrt((p-q) @ (p-q))"
   ]
  },
  {
   "cell_type": "code",
   "execution_count": 5,
   "metadata": {},
   "outputs": [],
   "source": [
    "def KNN_Predict(point, \n",
    "                training_features, \n",
    "                training_labels, \n",
    "                k, \n",
    "                regression = False):\n",
    "    \n",
    "    neighbors = k_nearest_neighbors(point, \n",
    "                                    training_features, \n",
    "                                    training_labels, \n",
    "                                    k)\n",
    "    \n",
    "    if regression == False:\n",
    "        labels = [x[1] for x in neighbors]\n",
    "        return max(labels, key = labels.count)\n",
    "    \n",
    "    else:\n",
    "        return sum(x[1] for x in neighbors)/k"
   ]
  },
  {
   "cell_type": "code",
   "execution_count": 6,
   "metadata": {},
   "outputs": [],
   "source": [
    "def classification_error(test_features, \n",
    "                         test_labels,\n",
    "                         training_features, \n",
    "                         training_labels,\n",
    "                         k):\n",
    "    error = 0\n",
    "    for point, label in zip(test_features, test_labels):\n",
    "        error += label != KNN_Predict(point, \n",
    "                                      training_features, \n",
    "                                      training_labels, \n",
    "                                      k)\n",
    "    return error/len(test_features)"
   ]
  },
  {
   "cell_type": "code",
   "execution_count": 7,
   "metadata": {},
   "outputs": [
    {
     "name": "stderr",
     "output_type": "stream",
     "text": [
      "100%|██████████████████████████████████████████████████████████████████████████████████████████████████████████████████████████████████████████████████████████████████████████████████████████████████████████| 8/8 [00:14<00:00,  1.86s/it]\n"
     ]
    },
    {
     "data": {
      "image/png": "[encoded data removed]",
      "text/plain": [
       "<Figure size 720x576 with 1 Axes>"
      ]
     },
     "metadata": {
      "needs_background": "light"
     },
     "output_type": "display_data"
    }
   ],
   "source": [
    "errors = []\n",
    "K = range(2,10)\n",
    "for k in tqdm(K):\n",
    "    error = classification_error(test_features = X_val,\n",
    "                     test_labels = y_val,\n",
    "                     training_features = X_train,\n",
    "                     training_labels = y_train,\n",
    "                     k=k)\n",
    "    errors.append(error)\n",
    "    \n",
    "\n",
    "plt.figure(figsize=(10,8))\n",
    "plt.plot(K, errors)\n",
    "plt.xlabel(\"k\")\n",
    "plt.ylabel(\"Classification Error\")\n",
    "plt.show()\n",
    "    \n",
    "    "
   ]
  },
  {
   "cell_type": "code",
   "execution_count": 8,
   "metadata": {},
   "outputs": [
    {
     "data": {
      "text/plain": [
       "0.27125506072874495"
      ]
     },
     "execution_count": 8,
     "metadata": {},
     "output_type": "execute_result"
    }
   ],
   "source": [
    "classification_error(test_features = X_test,\n",
    "                     test_labels = y_test,\n",
    "                     training_features = X_train,\n",
    "                     training_labels = y_train,\n",
    "                     k=5)"
   ]
  },
  {
   "cell_type": "code",
   "execution_count": null,
   "metadata": {},
   "outputs": [],
   "source": []
  }
 ],
 "metadata": {
  "kernelspec": {
   "display_name": "Python 3 (ipykernel)",
   "language": "python",
   "name": "python3"
  },
  "language_info": {
   "codemirror_mode": {
    "name": "ipython",
    "version": 3
   },
   "file_extension": ".py",
   "mimetype": "text/x-python",
   "name": "python",
   "nbconvert_exporter": "python",
   "pygments_lexer": "ipython3",
   "version": "3.10.4"
  },
  "vscode": {
   "interpreter": {
    "hash": "767d51c1340bd893661ea55ea3124f6de3c7a262a8b4abca0554b478b1e2ff90"
   }
  }
 },
 "nbformat": 4,
 "nbformat_minor": 2
}
