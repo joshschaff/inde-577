{
 "cells": [
  {
   "cell_type": "code",
   "execution_count": 12,
   "id": "e9bcb478",
   "metadata": {},
   "outputs": [],
   "source": [
    "import matplotlib.pyplot as plt\n",
    "import pandas as pd\n",
    "import numpy as np\n",
    "import seaborn as sns \n",
    "\n",
    "import matplotlib.pyplot as plt\n",
    "\n",
    "from sklearn.model_selection import train_test_split, GridSearchCV\n",
    "from sklearn.preprocessing import StandardScaler\n",
    "from sklearn.tree import DecisionTreeClassifier"
   ]
  },
  {
   "cell_type": "code",
   "execution_count": 9,
   "id": "afc316d2",
   "metadata": {},
   "outputs": [],
   "source": [
    "df = pd.read_csv(\"/home/josh/inde577/schaffer_inde_577/data/rb_tx_data.csv\")\n",
    "df = df.set_index(\"TransactionID\")\n",
    "\n",
    "df = df.replace(np.nan,0)\n",
    "\n",
    "df = df.loc[(df['TotalCost']>0) & \n",
    "            (df['RepairCost']>0) &\n",
    "            (df['TurnaroundTime']>0) &\n",
    "            (df['TurnaroundTime']<38) # corresponds to two weeks\n",
    "]\n",
    "\n",
    "#X = df['RepairCost'].values.reshape(-1, 1)\n",
    "#y = np.where(df['DayCreated'] == df['DayCompleted'], 0, 1)\n",
    "#y = np.where(df['TransactionType'] == 'outpatient', 0, 1)\n",
    "\n",
    "X = df.loc[:, df.columns[14:]].values\n",
    "y = df['TurnaroundTime'].values\n",
    "y = np.where(df['DayCreated']== df['DayCompleted'], 0, 1)\n",
    "\n",
    "\n",
    "min_max_scaler = StandardScaler()\n",
    "X = min_max_scaler.fit_transform(X)\n",
    "#X = vectorize_feature_data(X)\n",
    "\n",
    "\n",
    "X_train, X_val_test, y_train, y_val_test = train_test_split(X,y, test_size=0.3, random_state = 42)\n",
    "X_val, X_test, y_val, y_test = train_test_split(X,y, test_size=0.5, random_state = 42)\n"
   ]
  },
  {
   "cell_type": "code",
   "execution_count": 35,
   "id": "363799c9",
   "metadata": {},
   "outputs": [],
   "source": [
    "param_grid = {\n",
    "    'max_depth': list(range(1,40)),\n",
    "    'max_leaf_nodes': list(range(2,20)),\n",
    "    'min_samples_split': [2,3,4]\n",
    "}\n",
    "\n",
    "grid_search_cv = GridSearchCV(\n",
    "    DecisionTreeClassifier(criterion = 'entropy'),\n",
    "    param_grid = param_grid,\n",
    "    scoring = \"accuracy\",\n",
    "    cv = 10\n",
    ").fit(X_train, y_train)"
   ]
  },
  {
   "cell_type": "code",
   "execution_count": 36,
   "id": "d759b8bc",
   "metadata": {},
   "outputs": [
    {
     "data": {
      "text/plain": [
       "0.7486956521739131"
      ]
     },
     "execution_count": 36,
     "metadata": {},
     "output_type": "execute_result"
    }
   ],
   "source": [
    "grid_search_cv.best_score_"
   ]
  },
  {
   "cell_type": "code",
   "execution_count": 37,
   "id": "2b3ff95c",
   "metadata": {},
   "outputs": [
    {
     "data": {
      "text/plain": [
       "{'ccp_alpha': 0.0,\n",
       " 'class_weight': None,\n",
       " 'criterion': 'entropy',\n",
       " 'max_depth': 12,\n",
       " 'max_features': None,\n",
       " 'max_leaf_nodes': 19,\n",
       " 'min_impurity_decrease': 0.0,\n",
       " 'min_samples_leaf': 1,\n",
       " 'min_samples_split': 4,\n",
       " 'min_weight_fraction_leaf': 0.0,\n",
       " 'random_state': None,\n",
       " 'splitter': 'best'}"
      ]
     },
     "execution_count": 37,
     "metadata": {},
     "output_type": "execute_result"
    }
   ],
   "source": [
    "clf = grid_search_cv.best_estimator_\n",
    "clf.get_params()"
   ]
  },
  {
   "cell_type": "code",
   "execution_count": 34,
   "id": "ee7ca5a3",
   "metadata": {},
   "outputs": [
    {
     "data": {
      "text/plain": [
       "{'ccp_alpha': 0.0,\n",
       " 'class_weight': None,\n",
       " 'criterion': 'gini',\n",
       " 'max_depth': 13,\n",
       " 'max_features': None,\n",
       " 'max_leaf_nodes': 19,\n",
       " 'min_impurity_decrease': 0.0,\n",
       " 'min_samples_leaf': 1,\n",
       " 'min_samples_split': 2,\n",
       " 'min_weight_fraction_leaf': 0.0,\n",
       " 'random_state': None,\n",
       " 'splitter': 'best'}"
      ]
     },
     "execution_count": 34,
     "metadata": {},
     "output_type": "execute_result"
    }
   ],
   "source": [
    "clf = grid_search_cv.best_estimator_\n",
    "clf.get_params()"
   ]
  },
  {
   "cell_type": "markdown",
   "id": "59eaf903",
   "metadata": {},
   "source": [
    "# Gini "
   ]
  },
  {
   "cell_type": "code",
   "execution_count": null,
   "id": "5f179752",
   "metadata": {},
   "outputs": [],
   "source": [
    "class Node(object):\n",
    "    \n",
    "    def __init__(self, features, labels):\n",
    "        \n",
    "        \n",
    "    def split(self)\n",
    "        self.split_rule\n",
    "        self.left_child\n",
    "        self.right_child\n",
    "    \n",
    "    \n",
    "    def predict(self regression = False)\n",
    "        if self.split_rule:\n",
    "            \n",
    "        else: # leaf node\n",
    "            if regression:\n",
    "                return np.mean(self.labels)\n",
    "            else:\n",
    "                return \n",
    "            \n",
    "        "
   ]
  },
  {
   "cell_type": "code",
   "execution_count": null,
   "id": "06709cc7",
   "metadata": {},
   "outputs": [],
   "source": [
    "def gini(y):\n",
    "    _gini = 1\n",
    "    samples = len(y)\n",
    "    unique_labels, label_counts = np.unique(y, return_counts=True)\n",
    "    for (label, count) in zip(unique_labels, label_counts):\n",
    "        gini -= (count / samples)**2      \n",
    "    \n",
    "    "
   ]
  },
  {
   "cell_type": "code",
   "execution_count": null,
   "id": "abacb7ca",
   "metadata": {},
   "outputs": [],
   "source": [
    "def split():\n",
    "    # for each feature\n",
    "    \n",
    "    # sort samples by feature\n",
    "    \n",
    "    # consider splitting "
   ]
  },
  {
   "cell_type": "code",
   "execution_count": 42,
   "id": "2afb4146",
   "metadata": {},
   "outputs": [
    {
     "data": {
      "text/plain": [
       "3.1818181818181817"
      ]
     },
     "execution_count": 42,
     "metadata": {},
     "output_type": "execute_result"
    }
   ],
   "source": [
    "test = np.array([1,2,2,3,3,3,4,4,4,4,5])\n",
    "np.unique(test, return_counts=True)\n",
    "np.mean(test)"
   ]
  },
  {
   "cell_type": "code",
   "execution_count": null,
   "id": "9c165681",
   "metadata": {},
   "outputs": [],
   "source": []
  }
 ],
 "metadata": {
  "kernelspec": {
   "display_name": "Python 3 (ipykernel)",
   "language": "python",
   "name": "python3"
  },
  "language_info": {
   "codemirror_mode": {
    "name": "ipython",
    "version": 3
   },
   "file_extension": ".py",
   "mimetype": "text/x-python",
   "name": "python",
   "nbconvert_exporter": "python",
   "pygments_lexer": "ipython3",
   "version": "3.10.4"
  }
 },
 "nbformat": 4,
 "nbformat_minor": 5
}
