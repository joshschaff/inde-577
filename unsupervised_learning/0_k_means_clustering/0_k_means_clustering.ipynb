{
 "cells": [
  {
   "cell_type": "markdown",
   "metadata": {},
   "source": [
    "# K-Means Clustering\n",
    "\n",
    "In this repository we will attempt to cluster Rice Bikes transactions according to their repairs"
   ]
  },
  {
   "cell_type": "markdown",
   "metadata": {},
   "source": [
    "## 0. Imports and Data "
   ]
  },
  {
   "cell_type": "code",
   "execution_count": 22,
   "metadata": {},
   "outputs": [],
   "source": [
    "import random\n",
    "\n",
    "import numpy as np\n",
    "import pandas as pd\n",
    "\n",
    "from sklearn.preprocessing import StandardScaler\n",
    "\n",
    "import seaborn as sns\n",
    "import matplotlib.pyplot as plt\n",
    "\n",
    "\n",
    "from tqdm import tqdm"
   ]
  },
  {
   "cell_type": "code",
   "execution_count": 23,
   "metadata": {},
   "outputs": [],
   "source": [
    "df = pd.read_csv(\"../../data/rb_tx_data.csv\")\n",
    "df = df.set_index(\"TransactionID\")\n",
    "\n",
    "df = df.replace(np.nan,0)\n",
    "\n",
    "df = df.loc[(df['TotalCost']>0) & \n",
    "            (df['RepairCost']>0) &\n",
    "            (df['TurnaroundTime']>0) &\n",
    "            (df['TurnaroundTime']<38) \n",
    "            ]\n",
    "\n",
    "X = df.loc[:, df.columns[14:] ].values\n",
    "y = df.TurnaroundTime.values.reshape(-1,1)"
   ]
  },
  {
   "cell_type": "markdown",
   "metadata": {},
   "source": [
    "## 1. Implementation"
   ]
  },
  {
   "cell_type": "code",
   "execution_count": 24,
   "metadata": {},
   "outputs": [],
   "source": [
    "def random_centroids(X, k):\n",
    "    \"\"\"\n",
    "    Generate k random centroids from the given feature data\n",
    "    \"\"\"\n",
    "    # indices of k random rows of X\n",
    "    random_idxs = random.sample(range(len(X)), k)\n",
    "    \n",
    "    return X[random_idxs]"
   ]
  },
  {
   "cell_type": "code",
   "execution_count": 25,
   "metadata": {},
   "outputs": [],
   "source": [
    "def assign_cluster(X, centroids):\n",
    "    \"\"\"\n",
    "    Given feature data and a set of clusters, return a list of assignments\n",
    "    where assignments_i is the index of the closet centroid to xi\n",
    "    \"\"\"\n",
    "    assignments = np.empty(X.shape[0], dtype=np.int8)\n",
    "    for i, xi in enumerate(X):\n",
    "        cluster_distances = []\n",
    "\n",
    "        for centroid in centroids:\n",
    "            d_cluster = np.linalg.norm(xi - centroid)\n",
    "            cluster_distances.append(d_cluster)\n",
    "\n",
    "        assignment = np.argmin(cluster_distances)\n",
    "        assignments[i] = assignment\n",
    "\n",
    "    return assignments\n"
   ]
  },
  {
   "cell_type": "code",
   "execution_count": 26,
   "metadata": {},
   "outputs": [],
   "source": [
    "def update_centroids(X, centroids, assignments):\n",
    "    \"\"\"\n",
    "    Compute the new centroid of each cluster by \n",
    "    averaging all samples grouped by assignment\n",
    "    \"\"\"\n",
    "    new_centroids = np.empty_like(centroids)\n",
    "\n",
    "    for i in range(len(centroids)):\n",
    "        # get all samples assigned to the current cluseter\n",
    "        X_cluster_i = X[np.argwhere(assignments == i)]\n",
    "\n",
    "        centroid = np.mean(X_cluster_i, axis= 0)\n",
    "        new_centroids[i] = centroid\n",
    "\n",
    "    return new_centroids\n",
    "\n",
    "\n"
   ]
  },
  {
   "cell_type": "code",
   "execution_count": 27,
   "metadata": {},
   "outputs": [],
   "source": [
    "def sum_squared_error(X, centroids, assignments):\n",
    "    \"\"\"\n",
    "    Calculate the sum of squared errors between each sample and its assigned centroid\n",
    "    \"\"\"\n",
    "\n",
    "    diff = X - centroids[assignments]\n",
    "\n",
    "    return np.sum(diff * diff)"
   ]
  },
  {
   "cell_type": "code",
   "execution_count": 29,
   "metadata": {},
   "outputs": [],
   "source": [
    "def kmeans_clustering(X, k, max_iter = 100, tol=1e-8):\n",
    "    #i = -1\n",
    "    centroids = random_centroids(X, k)\n",
    "\n",
    "    scaler = StandardScaler()\n",
    "\n",
    "    X = scaler.fit_transform(X)\n",
    "    sse_history = []\n",
    "    \n",
    "\n",
    "    for i in tqdm(range(max_iter)):\n",
    "        \n",
    "        assignments = assign_cluster(X, centroids)\n",
    "        centroids = update_centroids(X, centroids, assignments)\n",
    "        sse_i = sum_squared_error(X, centroids, assignments)\n",
    "        sse_history.append(sse_i)\n",
    "\n",
    "\n",
    "        if (len(sse_history) >1 and abs(sse_history[i] - sse_history[i -1])/sse_history[i -1]  < tol):\n",
    "            print(\"Stopping early, tolerance met\")\n",
    "            break\n",
    "\n",
    "\n",
    "    return assignments, scaler.inverse_transform(centroids), sse_history\n"
   ]
  },
  {
   "cell_type": "markdown",
   "metadata": {},
   "source": [
    "## 3. Execution and Evaluation"
   ]
  },
  {
   "cell_type": "code",
   "execution_count": 30,
   "metadata": {},
   "outputs": [
    {
     "name": "stderr",
     "output_type": "stream",
     "text": [
      "  9%|▉         | 9/100 [00:00<00:03, 23.27it/s]"
     ]
    },
    {
     "name": "stdout",
     "output_type": "stream",
     "text": [
      "Stopping early, tolerance met\n"
     ]
    },
    {
     "name": "stderr",
     "output_type": "stream",
     "text": [
      "\n"
     ]
    }
   ],
   "source": [
    "assignments, centroids, sse_history = kmeans_clustering(X, k=3)"
   ]
  },
  {
   "cell_type": "code",
   "execution_count": 31,
   "metadata": {},
   "outputs": [
    {
     "data": {
      "text/plain": [
       "Text(0, 0.5, 'SSE')"
      ]
     },
     "execution_count": 31,
     "metadata": {},
     "output_type": "execute_result"
    },
    {
     "data": {
      "image/png": "[encoded data removed]",
      "text/plain": [
       "<Figure size 720x576 with 1 Axes>"
      ]
     },
     "metadata": {},
     "output_type": "display_data"
    }
   ],
   "source": [
    "sns.set(style=\"whitegrid\")\n",
    "fig = plt.figure(figsize=(10,8))\n",
    "plt.plot(range(len(sse_history)), sse_history)\n",
    "plt.title(\"K-Means Clustering SSE\")\n",
    "plt.xlabel(\"Iteration\")\n",
    "plt.ylabel(\"SSE\")"
   ]
  },
  {
   "cell_type": "code",
   "execution_count": 32,
   "metadata": {},
   "outputs": [
    {
     "name": "stdout",
     "output_type": "stream",
     "text": [
      "-------------------- Cluster 0 (n = 1102) --------------------\n",
      "\tRearFlatRepair                0.3294  \n",
      "\tMinorAdjustment               0.2169  \n",
      "\tFrontFlatRepair               0.1751  \n",
      "\tAdjustRimBrake                0.08621 \n",
      "\tCleanAndLubeChain             0.07078 \n",
      "-------------------- Cluster 1 (n = 374) --------------------\n",
      "\tReplaceChain                  0.5722  \n",
      "\tAdjustRimBrake                0.4492  \n",
      "\tInstallBrakePads              0.1925  \n",
      "\tAdjustRearDerailleur          0.1872  \n",
      "\tMinorAdjustment               0.1818  \n",
      "-------------------- Cluster 2 (n = 168) --------------------\n",
      "\tAdjustRimBrake                0.5357  \n",
      "\tRearWheelTrue                 0.5119  \n",
      "\tFrontWheelTrue                0.4048  \n",
      "\tReplaceChain                  0.2679  \n",
      "\tAdjustHubBearings(Rear)       0.25    \n"
     ]
    }
   ],
   "source": [
    "repairs = df.columns[14:].values\n",
    "\n",
    "cluster_counts = np.unique(assignments, return_counts=True)[1]\n",
    "\n",
    "top_repair_count = 5\n",
    "\n",
    "for i, centroid in enumerate(centroids):\n",
    "    top_idxs = np.argsort(centroid)[-top_repair_count:]\n",
    "    top_repairs = repairs[top_idxs]\n",
    "\n",
    "\n",
    "    print(f\"{20*'-'} Cluster {i} (n = {cluster_counts [i]}) {20*'-'}\")\n",
    "\n",
    "    for i in range(top_repair_count-1, -1, -1):\n",
    "        print(\"\\t{:<30}{:<8.4g}\".format(\n",
    "            top_repairs[i],\n",
    "            centroid[top_idxs[i]]\n",
    "        ))\n"
   ]
  },
  {
   "cell_type": "markdown",
   "metadata": {},
   "source": [
    "Notably, the cluster 0 has high counts of both front and rear flat repairs as well as minor adjustments, which are all relatively low cost repairs which are typically performed outpatient.  \n",
    "\n",
    "Cluster 1 appears to have captured what I might call \"intermediate\" repairs such as chain replaces, rim brake adjustments / pad replacements, and derailleur adjusts. These can be completed inpatient or outpatient depending on the customer needs or shop environment at the time\n",
    "\n",
    "Finally cluster 2 has captured many repairs with both front and rear wheel trues as well as bearing adjustments. These are all advanced repairs that are almost exclusively done inpatient, and reflects a significant departure from the involvement of repairs of the prior clusters"
   ]
  },
  {
   "cell_type": "code",
   "execution_count": 33,
   "metadata": {},
   "outputs": [],
   "source": [
    "def assignments_by_cluster(assignments, centroids):\n",
    "    \"\"\"\n",
    "    Return a list a tuples of the form (cluster, indexes_of_samples_in_cluster)\n",
    "    \"\"\"\n",
    "    return [(i, np.argwhere(assignments == i)) for i in range(len(centroids))] "
   ]
  },
  {
   "cell_type": "code",
   "execution_count": 35,
   "metadata": {},
   "outputs": [
    {
     "name": "stdout",
     "output_type": "stream",
     "text": [
      "Average repair costs for cluster 0: 2.9862550340794516\n",
      "Average repair costs for cluster 1: 7.282316483363043\n",
      "Average repair costs for cluster 2: 10.521603363095238\n"
     ]
    }
   ],
   "source": [
    "for cluster, cluster_idxs in assignments_by_cluster(assignments, centroids):\n",
    "    print(f\"Average repair costs for cluster {cluster}: {np.mean(y[cluster_idxs])}\")"
   ]
  },
  {
   "cell_type": "markdown",
   "metadata": {},
   "source": [
    "Our understanding of the distinction between these three clusters is well reflected in their average repair costs."
   ]
  }
 ],
 "metadata": {
  "kernelspec": {
   "display_name": "Python 3.10.4 64-bit",
   "language": "python",
   "name": "python3"
  },
  "language_info": {
   "codemirror_mode": {
    "name": "ipython",
    "version": 3
   },
   "file_extension": ".py",
   "mimetype": "text/x-python",
   "name": "python",
   "nbconvert_exporter": "python",
   "pygments_lexer": "ipython3",
   "version": "3.10.4"
  },
  "orig_nbformat": 4,
  "vscode": {
   "interpreter": {
    "hash": "767d51c1340bd893661ea55ea3124f6de3c7a262a8b4abca0554b478b1e2ff90"
   }
  }
 },
 "nbformat": 4,
 "nbformat_minor": 2
}
